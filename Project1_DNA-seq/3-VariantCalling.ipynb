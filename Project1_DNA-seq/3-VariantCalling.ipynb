{
 "cells": [
  {
   "cell_type": "markdown",
   "id": "f306e036",
   "metadata": {},
   "source": [
    "<div class=\"alert alert-block alert-info\">\n",
    "    <h1>BIOS 4150/BIOL 6150</h1>\n",
    "    <h3>Instructor: Dr. King Jordan</h3>\n",
    "    <p>TAs: Shivam Sharma (shivamsharma13@gatech.edu) & Vishva Natarajan (vishvanata@gatech.edu)</p>\n",
    "</div>"
   ]
  },
  {
   "cell_type": "markdown",
   "id": "5a730747",
   "metadata": {},
   "source": [
    "<div class=\"alert alert-block alert-warning\">\n",
    "    <h2>Project 3 (Variant Calling) starter notebook</h2>\n",
    "    <h3>Deadline: 11:59PM, November 6th, 2023</h3>\n",
    "</div>"
   ]
  },
  {
   "cell_type": "markdown",
   "id": "ad5a37ca",
   "metadata": {},
   "source": [
    "<div class=\"alert alert-block alert-danger\">\n",
    "    <h2>Alert!</h2>\n",
    "    <p>Do not delete any comments or information boxes the starter notebook comes with</p>\n",
    "</div>"
   ]
  },
  {
   "cell_type": "markdown",
   "id": "3617fe16",
   "metadata": {},
   "source": [
    "---"
   ]
  },
  {
   "cell_type": "markdown",
   "id": "8e7d9cb6",
   "metadata": {},
   "source": [
    "# **1. Getting ready for variant calling**\n",
    "### *Total Questions: 6*\n",
    "### *Total Points: 5 + 5 + 30 + 45 + 20 + 45 = 150*\n",
    "\n",
    "\n",
    "---"
   ]
  },
  {
   "cell_type": "markdown",
   "id": "17cf9c8e",
   "metadata": {},
   "source": [
    "<div class=\"alert alert-block alert-warning\">\n",
    "    <h3>1.1 Check your SAM file</h3>\n",
    "    <p>We will start from where we left off in Project #2. We want to make sure that we are using the corrent SAM file.</p>\n",
    "</div>"
   ]
  },
  {
   "cell_type": "code",
   "execution_count": 15,
   "id": "c14d83c8",
   "metadata": {},
   "outputs": [
    {
     "name": "stdout",
     "output_type": "stream",
     "text": [
      "@HD\tVN:1.6\tSO:coordinate\r\n",
      "@SQ\tSN:NC_000001.11\tLN:248956422\r\n",
      "@SQ\tSN:NT_187361.1\tLN:175055\r\n",
      "@SQ\tSN:NT_187362.1\tLN:32032\r\n",
      "@SQ\tSN:NT_187363.1\tLN:127682\r\n",
      "@SQ\tSN:NT_187364.1\tLN:66860\r\n",
      "@SQ\tSN:NT_187365.1\tLN:40176\r\n",
      "@SQ\tSN:NT_187366.1\tLN:42210\r\n",
      "@SQ\tSN:NT_187367.1\tLN:176043\r\n",
      "@SQ\tSN:NT_187368.1\tLN:40745\r\n"
     ]
    }
   ],
   "source": [
    "#Check you SAM file here.\n",
    "!head ~/scratch/Data/Project2/SRR058947.sorted.sam"
   ]
  },
  {
   "cell_type": "markdown",
   "id": "caa8289b",
   "metadata": {},
   "source": [
    "<div class=\"alert alert-block alert-warning\">\n",
    "    <h3>1.2 Check your SAM file</h3>\n",
    "    <p>Show that your SAM file is sorted</p>\n",
    "</div>"
   ]
  },
  {
   "cell_type": "code",
   "execution_count": 11,
   "id": "97e1dedb",
   "metadata": {},
   "outputs": [
    {
     "name": "stdout",
     "output_type": "stream",
     "text": [
      "SN\tis sorted:\t1\r\n"
     ]
    }
   ],
   "source": [
    "#Show that your SAM file is sorted by genomic coordinates.\n",
    "!samtools stats ~/scratch/Data/Project2/SRR058947.sorted.sam | grep \"is sorted:\""
   ]
  },
  {
   "cell_type": "code",
   "execution_count": null,
   "id": "fdec79c9",
   "metadata": {},
   "outputs": [],
   "source": [
    "#This is a repeat from last project, but we want to check the sorted file again."
   ]
  },
  {
   "cell_type": "markdown",
   "id": "0edf3cfe",
   "metadata": {},
   "source": [
    "<div class=\"alert alert-block alert-warning\">\n",
    "    <h3>1.3 The pieleup format</h3>\n",
    "    <p><b>1.3.1</b> A lot of variant callers use the pielup format for calling variants from SAM file. Explain in 2-3 lines what is the pileup format?</p>\n",
    "    <p><b>1.3.2</b> Explain the 6 columns of a pielup format file in your own words.</p>\n",
    "</div>"
   ]
  },
  {
   "cell_type": "markdown",
   "id": "fb637b7c",
   "metadata": {},
   "source": [
    "#Information about the pileup format.\n",
    "Pileup is a text based format for representing alignment sequence data. It gives information about the bases from aligned reads compared to a reference sequence. "
   ]
  },
  {
   "cell_type": "markdown",
   "id": "55cb1e5f",
   "metadata": {},
   "source": [
    "#Information about the 6 fields of the pieleup format file.\n",
    "#Write one sentence for each file.\n",
    "\n",
    "The first column contains the sequence identifier for each read.\n",
    "\n",
    "The second column contains the position in the reference sequence. \n",
    "\n",
    "The third column contains the nucleotide at that position in the reference genome.\n",
    "\n",
    "The fourth column shows the number of reads that cover that position. \n",
    "\n",
    "The fifth column shows the bases observed at that position from the various aligned reads. \n",
    "\n",
    "The 6th column is for a quality score for the bases observed at that position based on the aligned reads. "
   ]
  },
  {
   "cell_type": "markdown",
   "id": "f85ea4cd",
   "metadata": {},
   "source": [
    "<div class=\"alert alert-block alert-warning\">\n",
    "    <h3>1.4 Create the pileup file</h3>\n",
    "    <p>Using samtools, create the pileup file for the SAM file of your 1000 genomes individuals</p>\n",
    "</div>"
   ]
  },
  {
   "cell_type": "code",
   "execution_count": 1,
   "id": "319e8897",
   "metadata": {},
   "outputs": [
    {
     "name": "stdout",
     "output_type": "stream",
     "text": [
      "[mpileup] 1 samples in 1 input files\r\n"
     ]
    }
   ],
   "source": [
    "#Run the pileup command.\n",
    "!samtools mpileup -f ~/scratch/Data/Project2/GCF_000001405.40_GRCh38.p14_genomic.fna ~/scratch/Data/Project2/SRR058947.sorted.bam > ~/scratch/Data/Project3/SRR058947.mpileup"
   ]
  },
  {
   "cell_type": "code",
   "execution_count": 3,
   "id": "fdce4901",
   "metadata": {},
   "outputs": [
    {
     "name": "stdout",
     "output_type": "stream",
     "text": [
      "NC_000001.11\t10001\tt\t1\t^!.\tD\n",
      "NC_000001.11\t10002\ta\t1\t.\tE\n",
      "NC_000001.11\t10003\ta\t3\t.^!.^!.\tGEA\n",
      "NC_000001.11\t10004\tc\t4\t...^!.\tFGFA\n",
      "NC_000001.11\t10005\tc\t4\t....\tGGFB\n",
      "NC_000001.11\t10006\tc\t4\t....\tGGFE\n",
      "NC_000001.11\t10007\tt\t4\t....\tGGFG\n",
      "NC_000001.11\t10008\ta\t4\t....\tDFGG\n",
      "NC_000001.11\t10009\ta\t4\t....\tGGBG\n",
      "NC_000001.11\t10010\tc\t4\t....\tFGGG\n",
      "--\n",
      "NC_000001.11\t33582\tt\t1\t,\tF\n",
      "NC_000001.11\t33583\tt\t1\t,\tF\n",
      "NC_000001.11\t33584\tg\t1\t,\tF\n",
      "NC_000001.11\t33585\tg\t1\t,\tE\n",
      "NC_000001.11\t33586\tA\t1\t,\tE\n",
      "NC_000001.11\t33587\tT\t1\t,\tF\n",
      "NC_000001.11\t33588\tA\t1\t,\tE\n",
      "NC_000001.11\t33589\tC\t1\t,\tF\n",
      "NC_000001.11\t33590\tA\t1\t,\tF\n",
      "NC_000001.11\t33591\tT\t1\t,$\tE\n",
      "--\n",
      "NC_000001.11\t478188\tT\t2\t.,\tGB\n",
      "NC_000001.11\t478189\tT\t2\t.,\tGE\n",
      "NC_000001.11\t478190\tC\t2\t.,\tG?\n",
      "NC_000001.11\t478191\tA\t2\t.,\tFF\n",
      "NC_000001.11\t478192\tG\t2\t.,\tGF\n",
      "NC_000001.11\t478193\tG\t2\t.,\tGE\n",
      "NC_000001.11\t478194\tT\t2\t.,\tBE\n",
      "NC_000001.11\t478195\tA\t2\t.,\tFB\n",
      "NC_000001.11\t478196\tC\t2\t.,\tED\n",
      "NC_000001.11\t478197\tT\t2\t.,\tFE\n"
     ]
    }
   ],
   "source": [
    "#Show the first 10 lines of the Pileup file.\n",
    "!head ~/scratch/Data/Project3/SRR058947.mpileup\n",
    "!echo --\n",
    "#Show the 10,000 - 10,010 lines of the Pileup file.\n",
    "!head ~/scratch/Data/Project3/SRR058947.mpileup -n10010 | tail\n",
    "!echo --\n",
    "#Show the 200,000 - 200,010 lines of the Pileup file.\n",
    "!head ~/scratch/Data/Project3/SRR058947.mpileup -n200010 | tail"
   ]
  },
  {
   "cell_type": "markdown",
   "id": "1f5a1e94",
   "metadata": {},
   "source": [
    "<div class=\"alert alert-block alert-warning\">\n",
    "    <h3>1.5 Look more into the pileup file</h3>\n",
    "    <p>Show the 100,000th entry in your pileup file and explain (2-4 lines) what information column 5 <b><i>Read Results</i></b> is providing the user</p>\n",
    "</div>"
   ]
  },
  {
   "cell_type": "code",
   "execution_count": 4,
   "id": "e437935e",
   "metadata": {},
   "outputs": [
    {
     "name": "stdout",
     "output_type": "stream",
     "text": [
      "NC_000001.11\t196859\tA\t1\t.\tG\r\n"
     ]
    }
   ],
   "source": [
    "#Show the 100,000th entry here.\n",
    "!head ~/scratch/Data/Project3/SRR058947.mpileup -n100000 | tail -n1"
   ]
  },
  {
   "cell_type": "markdown",
   "id": "02ced5b4",
   "metadata": {},
   "source": [
    "#Explain the entry here.\n",
    "At the 100,000th entry the pileup file's 5th column just has a period. This means that in the single read that aligned to this reference sequence, the nucleotide in the aligned read was the same as the reference genome."
   ]
  },
  {
   "cell_type": "markdown",
   "id": "b2838433",
   "metadata": {},
   "source": [
    "<div class=\"alert alert-block alert-warning\">\n",
    "    <h3>1.6 Plot the read count distribution</h3>\n",
    "    <p>A graph that shows how many reads are aligning to a specific genomic region could be helpful for determining flags for our variant caller. \n",
    "    <p>Plot a graph (thin bars or line) between <b><i>Read Count (y-axis)</i></b> and <b><i>Position (x-axis)</i></b> only for <u>chromosome 20</u>.</p>\n",
    "    <hr>\n",
    "    <p>You can use Python for visualization, but will have to filter the pileup file using bash or python.</p>\n",
    "</div>"
   ]
  },
  {
   "cell_type": "code",
   "execution_count": 6,
   "id": "a162ef27",
   "metadata": {},
   "outputs": [],
   "source": [
    "#An awk command can help you create a file with just the information for chr20.\n",
    "!awk '$1 == \"NC_000020.11\" { print $2, $4 }' ~/scratch/Data/Project3/SRR058947.mpileup > ~/scratch/Data/Project3/Chromosome20positionreadcounts.txt"
   ]
  },
  {
   "cell_type": "code",
   "execution_count": 1,
   "id": "54162b40",
   "metadata": {},
   "outputs": [
    {
     "name": "stdout",
     "output_type": "stream",
     "text": [
      "Finished with file\n"
     ]
    },
    {
     "data": {
      "image/png": "[encoded data removed]",
      "text/plain": [
       "<Figure size 640x480 with 1 Axes>"
      ]
     },
     "metadata": {},
     "output_type": "display_data"
    }
   ],
   "source": [
    "#Plot your graph and show it here (matplotlib/seaborn)\n",
    "\n",
    "# Read the extracted data file\n",
    "#file_path = '~/scratch/Data/Project3/Chromosome20positionreadcounts.txt'\n",
    "\n",
    "file_path = 'P3Chr20RC.txt'\n",
    "with open(file_path, 'r') as file:\n",
    "    lines = file.readlines()\n",
    "    read_list = []\n",
    "    for line in lines:\n",
    "        read_list.append(list(map(int,line.split())))\n",
    "    positions, readcounts = zip(*read_list)\n",
    "    print(\"Finished with file\")\n",
    "    \n",
    "import matplotlib.pyplot as plt\n",
    "#plt.figure(figsize=(10, 6))\n",
    "plt.plot(positions, readcounts, marker='o', linestyle='-')\n",
    "plt.xlabel('Position')\n",
    "plt.ylabel('Read Count')\n",
    "plt.title('Chromosome 20 \\n Read Count vs. Position')\n",
    "plt.show()"
   ]
  },
  {
   "cell_type": "code",
   "execution_count": null,
   "id": "eb19d2eb",
   "metadata": {},
   "outputs": [],
   "source": []
  },
  {
   "cell_type": "markdown",
   "id": "8f8e1059",
   "metadata": {},
   "source": [
    "# **2. Variant calling**\n",
    "### *Total Questions: 3*\n",
    "### *Total Points: 50+30+10+40 = 130*\n",
    "\n",
    "\n",
    "---"
   ]
  },
  {
   "cell_type": "markdown",
   "id": "0133aa8c",
   "metadata": {},
   "source": [
    "<div class=\"alert alert-block alert-warning\">\n",
    "    <h3>2.1 Call the variants (SNPs and Short Indels)</h3>\n",
    "    <p><b>2.1.1</b> Write the command used and justify the flags you have used using one sentence.</p>\n",
    "    <p><b>2.1.2</b> Informed decision.</p>\n",
    "</div>"
   ]
  },
  {
   "cell_type": "code",
   "execution_count": 2,
   "id": "6a536047",
   "metadata": {
    "scrolled": true
   },
   "outputs": [
    {
     "name": "stdout",
     "output_type": "stream",
     "text": [
      "Only SNPs will be reported\n",
      "Warning: No p-value threshold provided, so p-values will not be calculated\n",
      "Min coverage:\t8\n",
      "Min reads2:\t10\n",
      "Min var freq:\t0.2\n",
      "Min avg qual:\t15\n",
      "P-value thresh:\t0.01\n",
      "Reading input from /home/hice1/cwijeyesekera3/scratch/Data/Project3/SRR058947.mpileup\n",
      "1865860146 bases in pileup file\n",
      "8027 variant positions (7880 SNP, 147 indel)\n",
      "1054 were failed by the strand-filter\n",
      "6848 variant positions reported (6848 SNP, 0 indel)\n"
     ]
    }
   ],
   "source": [
    "#Use VarScan for calling variants. Look up the appropriate command for this.\n",
    "!varscan mpileup2snp ~/scratch/Data/Project3/SRR058947.mpileup --min-reads2 10 --output-vcf > ~/scratch/Data/Project3/SRR058947.vcf"
   ]
  },
  {
   "cell_type": "markdown",
   "id": "72b62fdf",
   "metadata": {},
   "source": [
    "#Make an informed decision (based on section 1) about the parameters used for calling the variants.\n",
    "\n",
    "#There is no specific answer to this, but the idea is to look into the flags used, and make sure they make sense.\n",
    "\n",
    "We increased the increased the minimum supporting reads from a default of 2 to a default of 10. We did this for quality control to ensure that the variants we see are more likely to be actual variants rather than false positives / artifacts. "
   ]
  },
  {
   "cell_type": "markdown",
   "id": "2d0dcdbf",
   "metadata": {},
   "source": [
    "<div class=\"alert alert-block alert-warning\">\n",
    "    <h3>2.2 Select any random variant in your VCF file which lies between the positions 20,800,000 and 30,800,000 on chromosome 16</h3>\n",
    "    <p><b>Q.</b> What is the average depth of bases for this variant called on chromosome 16</p>\n",
    "</div>"
   ]
  },
  {
   "cell_type": "code",
   "execution_count": 23,
   "id": "ee0dc5ab",
   "metadata": {},
   "outputs": [
    {
     "name": "stdout",
     "output_type": "stream",
     "text": [
      "NC_000016.10\t34582298\t.\tT\tC\t.\tPASS\tADP=118;WT=0;HET=0;HOM=1;NC=0\tGT:GQ:SDP:DP:RD:AD:FREQ:PVAL:RBQ:ABQ:RDF:RDR:ADF:ADR\t1/1:255:119:118:20:98:83.05%:1.0594E-46:36:34:16:4:53:45\r\n"
     ]
    }
   ],
   "source": [
    "#Extract this variant. There are multiple ways of doing this. Some fast and some easy.\n",
    "!awk '$1 == \"NC_000016.10\" && $2 >= 30800000  && $2 <= 40800000 { print $0 }' ~/scratch/Data/Project3/SRR058947.vcf | shuf -n 1"
   ]
  },
  {
   "cell_type": "code",
   "execution_count": 2,
   "id": "a8c90936",
   "metadata": {},
   "outputs": [],
   "source": [
    "#There could be multiple variants in this range, please select one."
   ]
  },
  {
   "cell_type": "markdown",
   "id": "71246e55",
   "metadata": {},
   "source": [
    "The average depth of bases (ADP) for this variant is 118."
   ]
  },
  {
   "cell_type": "markdown",
   "id": "4b9b3b7e",
   "metadata": {},
   "source": [
    "<div class=\"alert alert-block alert-warning\">\n",
    "    <h3>2.3 How many indels do you have in your VCF file?</p>\n",
    "</div>"
   ]
  },
  {
   "cell_type": "code",
   "execution_count": 32,
   "id": "fd90251e",
   "metadata": {},
   "outputs": [
    {
     "name": "stdout",
     "output_type": "stream",
     "text": [
      "[tabix] the index file exists. Please use '-f' to overwrite.\r\n"
     ]
    }
   ],
   "source": [
    "#Same as above, there are multiple ways of doing this.\n",
    "!tabix -p vcf ~/scratch/Data/Project3/SRR058947.vcf.gz\n",
    "!bcftools stats ~/scratch/Data/Project3/SRR058947.vcf.gz > ~/scratch/Data/Project3/vcf_stats.txt"
   ]
  },
  {
   "cell_type": "code",
   "execution_count": 35,
   "id": "b82e5f93",
   "metadata": {},
   "outputs": [
    {
     "name": "stdout",
     "output_type": "stream",
     "text": [
      "SN\t0\tnumber of samples:\t1\r\n",
      "SN\t0\tnumber of records:\t6848\r\n",
      "SN\t0\tnumber of no-ALTs:\t0\r\n",
      "SN\t0\tnumber of SNPs:\t6848\r\n",
      "SN\t0\tnumber of MNPs:\t0\r\n",
      "SN\t0\tnumber of indels:\t0\r\n",
      "SN\t0\tnumber of others:\t0\r\n",
      "SN\t0\tnumber of multiallelic sites:\t0\r\n",
      "SN\t0\tnumber of multiallelic SNP sites:\t0\r\n"
     ]
    }
   ],
   "source": [
    "#Write your command and show the number of indels.\n",
    "!awk '$1 == \"SN\" { print $0 }' ~/scratch/Data/Project3/vcf_stats.txt"
   ]
  },
  {
   "cell_type": "markdown",
   "id": "d1a7b4df",
   "metadata": {},
   "source": [
    "Our VCF File has 0 indels. As seen above in the varscan command, we initially has 147 indels, but they were excluded due to the filtering conditions. "
   ]
  },
  {
   "cell_type": "markdown",
   "id": "a4f73406",
   "metadata": {},
   "source": [
    "<div class=\"alert alert-block alert-warning\">\n",
    "    <h3>2.4 Select any random variant in your VCF file which lies between the position 203,000,000 and 230,000,000 on chromosome 2.</h3>\n",
    "    <p><b>2.4.1</b> What is the variation observed for your 1000 genome individual at this position? Is it 0/0 1/1/ 0/1 or 1/0? How many copies of reference alleles does your individual carry at this position?</p>\n",
    "    <p><b>2.4.2</b> How many read bases (forward and reverse) from your pileup file (as selected by VarScan) supported the alternative allele and how many variants supported the reference allele at this position?</p>\n",
    "</div>"
   ]
  },
  {
   "cell_type": "code",
   "execution_count": 9,
   "id": "48ec2c81",
   "metadata": {},
   "outputs": [
    {
     "name": "stdout",
     "output_type": "stream",
     "text": [
      "NC_000002.12\t90382579\t.\tA\tC\t.\tPASS\tADP=14;WT=0;HET=0;HOM=1;NC=0\tGT:GQ:SDP:DP:RD:AD:FREQ:PVAL:RBQ:ABQ:RDF:RDR:ADF:ADR\t1/1:76:14:14:0:14:100%:2.4927E-8:0:34:0:0:12:2\r\n"
     ]
    }
   ],
   "source": [
    "#Select the variant.\n",
    "!awk '$1 == \"NC_000002.12\" && $2 >= 8900000 && $2 <= 160000000 { print $0 }' ~/scratch/Data/Project3/SRR058947.vcf | shuf -n 1"
   ]
  },
  {
   "cell_type": "markdown",
   "id": "5cc298d2",
   "metadata": {},
   "source": [
    "#Variation observed and number of copies for reference allele.\n",
    "\n",
    "Our variant observed is homozygous (1/1). Our individual carries 0 copies of the reference allele. "
   ]
  },
  {
   "cell_type": "markdown",
   "id": "1936576c",
   "metadata": {},
   "source": [
    "#Number of reads supporting the ref & alt allele.\n",
    "\n",
    "Our individual carries 0 of the reference allele and 14 reads supporting the alt allele. 12 of the reads are on the forward strand and 2 are on the reverse strand. "
   ]
  },
  {
   "cell_type": "markdown",
   "id": "c72828ff",
   "metadata": {},
   "source": [
    "# **3. Filtering**\n",
    "### *Total Questions: 1*\n",
    "### *Total Points: 20 = 20*\n",
    "\n",
    "\n",
    "---"
   ]
  },
  {
   "cell_type": "markdown",
   "id": "91d77de1",
   "metadata": {},
   "source": [
    "<div class=\"alert alert-block alert-warning\">\n",
    "    <h3>3.1 Extract variants that have average per sample depth of > 50. </h3>\n",
    "    <p>Show your command and number of variants before and after</p>\n",
    "</div>"
   ]
  },
  {
   "cell_type": "code",
   "execution_count": 10,
   "id": "d489e067",
   "metadata": {},
   "outputs": [
    {
     "name": "stdout",
     "output_type": "stream",
     "text": [
      "Min coverage:\t10\n",
      "Min reads2:\t50\n",
      "Min strands2:\t1\n",
      "Min var freq:\t0.2\n",
      "Min avg qual:\t15\n",
      "P-value thresh:\t0.1\n",
      "Reading input from /home/hice1/cwijeyesekera3/scratch/Data/Project3/SRR058947.vcf\n",
      "6848 entries in input stream\n",
      "0 had no genotype\n",
      "0 were called wild-type\n",
      "0 failed coverage\n",
      "5223 failed reads2\n",
      "102 failed strands\n",
      "0 failed quality\n",
      "0 failed variant frequency < 0.2\n",
      "0 failed P-value > 0.1\n",
      "0 were removed near indels\n",
      "1523 passed filters\n"
     ]
    }
   ],
   "source": [
    "!varscan filter ~/scratch/Data/Project3/SRR058947.vcf --min-reads2 50 --output-file ~/scratch/Data/Project3/SRR058947.filtered.vcf"
   ]
  },
  {
   "cell_type": "markdown",
   "id": "e54928ef",
   "metadata": {},
   "source": [
    "Reading the command output we can see that initially there were 6848 variants. After filtering we only have 1523 variants."
   ]
  },
  {
   "cell_type": "code",
   "execution_count": null,
   "id": "458a498e",
   "metadata": {},
   "outputs": [],
   "source": []
  }
 ],
 "metadata": {
  "kernelspec": {
   "display_name": "Python [conda env:biol6150]",
   "language": "python",
   "name": "conda-env-biol6150-py"
  },
  "language_info": {
   "codemirror_mode": {
    "name": "ipython",
    "version": 3
   },
   "file_extension": ".py",
   "mimetype": "text/x-python",
   "name": "python",
   "nbconvert_exporter": "python",
   "pygments_lexer": "ipython3",
   "version": "3.11.5"
  }
 },
 "nbformat": 4,
 "nbformat_minor": 5
}
