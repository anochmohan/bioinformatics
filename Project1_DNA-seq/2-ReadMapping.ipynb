{
 "cells": [
  {
   "cell_type": "markdown",
   "id": "e53587e1",
   "metadata": {},
   "source": [
    "<div class=\"alert alert-block alert-info\">\n",
    "    <h1>BIOS 4150/BIOL 6150</h1>\n",
    "    <h3>Instructor: Dr. King Jordan</h3>\n",
    "    <p>TAs: Shivam Sharma (shivamsharma13@gatech.edu) & Vishva Natarajan (vishvanata@gatech.edu)</p>\n",
    "</div>"
   ]
  },
  {
   "cell_type": "markdown",
   "id": "4c342f3f",
   "metadata": {},
   "source": [
    "<div class=\"alert alert-block alert-warning\">\n",
    "    <h2>Project 2 (Read Mapping) starter notebook</h2>\n",
    "    <h3>Deadline: 11:59PM, October 31st, 2023</h3>\n",
    "</div>"
   ]
  },
  {
   "cell_type": "markdown",
   "id": "879a14ff",
   "metadata": {},
   "source": [
    "---"
   ]
  },
  {
   "cell_type": "markdown",
   "id": "f404ae11",
   "metadata": {},
   "source": [
    "# **1. Getting ready for read alignment**\n",
    "### *Total Questions: 5*\n",
    "### *Total Points: 5+20+20+20+5 = 70*\n",
    "\n",
    "\n",
    "---"
   ]
  },
  {
   "cell_type": "markdown",
   "id": "69ff09a1",
   "metadata": {},
   "source": [
    "<div class=\"alert alert-block alert-warning\">\n",
    "    <h3>1.1 Do you have the post-QCed fastq file from the assigned 1000 Genomes individual</h3>\n",
    "    <p>We will start from where we left off in Project #1. We want to make sure that we are using the correct QCed fastq files.</p>\n",
    "</div>"
   ]
  },
  {
   "cell_type": "code",
   "execution_count": 11,
   "id": "9a5c6620",
   "metadata": {},
   "outputs": [
    {
     "name": "stdout",
     "output_type": "stream",
     "text": [
      "total 3.2G\r\n",
      "-rw-r--r-- 1 cwijeyesekera3 gtperson 1.6G Oct 19 19:44 SRR058947_1.Trimmed.fastq.gz\r\n",
      "-rw-r--r-- 1 cwijeyesekera3 gtperson 1.6G Oct 19 19:44 SRR058947_2.Trimmed.fastq.gz\r\n"
     ]
    }
   ],
   "source": [
    "##Run \"ls -lh\" here to show the two fastq files.\n",
    "!ls -lh ../scratch/Data/Project1/Trimming"
   ]
  },
  {
   "cell_type": "markdown",
   "id": "cad8ccda",
   "metadata": {},
   "source": [
    "<div class=\"alert alert-block alert-warning\">\n",
    "    <h3>1.2 Download the correct reference genome for alignment step</h3>\n",
    "    <p>Please locate and donwload the human reference genome fasta file in build GRCh38</p>\n",
    "</div>"
   ]
  },
  {
   "cell_type": "code",
   "execution_count": 9,
   "id": "aaa946ba",
   "metadata": {},
   "outputs": [
    {
     "name": "stdout",
     "output_type": "stream",
     "text": [
      "total 4.3G\r\n",
      "-rw------- 1 cwijeyesekera3 gtperson 3.2G Oct 30 15:25 GCF_000001405.40_GRCh38.p14_genomic.fna\r\n",
      "-rw-r--r-- 1 cwijeyesekera3 gtperson 1.2G Oct 30 15:26 GCF_000001405.40.zip\r\n",
      "-rw------- 1 cwijeyesekera3 gtperson 1.6K Oct 30 15:25 README.md\r\n"
     ]
    }
   ],
   "source": [
    "#Where does this file come from? Give the website link (FTP?) or explain how you downloaed this file.\n",
    "#Also run \"ls -lh\" here to see the size and location of your reference file.\n",
    "# Used Curl Command Below to download the genome assembly from NCBI. GCF_000001405.40 is synonymous with GRCh38.p14\n",
    "#!curl -OJX GET \"https://api.ncbi.nlm.nih.gov/datasets/v2alpha/genome/accession/GCF_000001405.40/download?include_annotation_type=GENOME_FASTA,GENOME_GFF,RNA_FASTA,CDS_FASTA,PROT_FASTA,SEQUENCE_REPORT&filename=GCF_000001405.40.zip\" -H \"Accept: application/zip\"\n",
    "\n",
    "!ls -lh ../scratch/Data/Project2/"
   ]
  },
  {
   "cell_type": "markdown",
   "id": "c9db3bcf",
   "metadata": {},
   "source": [
    "<div class=\"alert alert-block alert-warning\">\n",
    "    <h3>1.3 Find out about your reference genome file.</h3>\n",
    "    <p>Does your reference fasta file have more information that just ACGT nucleotides? Please check if your fastq sequence have Ns or small/upper case ACGT nnucleotides.</p>\n",
    "</div>"
   ]
  },
  {
   "cell_type": "markdown",
   "id": "3d663c43",
   "metadata": {},
   "source": [
    "#Just glance over the fasta file. There is no need to run a script for this. \n",
    "#Write in one sentence if you see more than just upper case ACGT nucleotides.\n",
    "\n",
    "There is more than just uppercase ACGT nucleotide; there are also N's and lower case acgt's. "
   ]
  },
  {
   "cell_type": "markdown",
   "id": "09d4c26a",
   "metadata": {},
   "source": [
    "<div class=\"alert alert-block alert-warning\">\n",
    "    <h3>1.4 Using 1-3 lines, explain what upper case ACGT, lower case ACGT, and NNNs mean in your reference fasta file.</h3>\n",
    "    <p>Hint: check readme files.</p>\n",
    "</div>"
   ]
  },
  {
   "cell_type": "markdown",
   "id": "d6aa658b",
   "metadata": {},
   "source": [
    "Upper case ACGT's represent base pairs that are known to be said nucleotide. N's represent base pairs where no information is found. Lowercase ACGT's represent soft-masked bases which cover repetitive sequences in the genome. "
   ]
  },
  {
   "cell_type": "markdown",
   "id": "781d9e4d",
   "metadata": {},
   "source": [
    "<div class=\"alert alert-block alert-warning\">\n",
    "    <h3>1.5 Select a tool for read alignment.</h3>\n",
    "    <p>We have demonstrated bwa and minimap2 in the class. If you want to use some other tool, reach out to one of the TAs to get that tool installed on PACE-ICE.</p>\n",
    "</div>"
   ]
  },
  {
   "cell_type": "code",
   "execution_count": 8,
   "id": "9627b913",
   "metadata": {},
   "outputs": [
    {
     "name": "stdout",
     "output_type": "stream",
     "text": [
      "\r\n",
      "Program: bwa (alignment via Burrows-Wheeler transformation)\r\n",
      "Version: 0.7.17-r1188\r\n",
      "Contact: Heng Li <lh3@sanger.ac.uk>\r\n",
      "\r\n",
      "Usage:   bwa <command> [options]\r\n",
      "\r\n",
      "Command: index         index sequences in the FASTA format\r\n",
      "         mem           BWA-MEM algorithm\r\n",
      "         fastmap       identify super-maximal exact matches\r\n",
      "         pemerge       merge overlapping paired ends (EXPERIMENTAL)\r\n",
      "         aln           gapped/ungapped alignment\r\n",
      "         samse         generate alignment (single ended)\r\n",
      "         sampe         generate alignment (paired ended)\r\n",
      "         bwasw         BWA-SW for long queries\r\n",
      "\r\n",
      "         shm           manage indices in shared memory\r\n",
      "         fa2pac        convert FASTA to PAC format\r\n",
      "         pac2bwt       generate BWT from PAC\r\n",
      "         pac2bwtgen    alternative algorithm for generating BWT\r\n",
      "         bwtupdate     update .bwt to the new format\r\n",
      "         bwt2sa        generate SA from BWT and Occ\r\n",
      "\r\n",
      "Note: To use BWA, you need to first index the genome with `bwa index'.\r\n",
      "      There are three alignment algorithms in BWA: `mem', `bwasw', and\r\n",
      "      `aln/samse/sampe'. If you are not sure which to use, try `bwa mem'\r\n",
      "      first. Please `man ./bwa.1' for the manual.\r\n",
      "\r\n"
     ]
    }
   ],
   "source": [
    "#Run your tool here to just make sure bash does not say \"not found\"\n",
    "!bwa"
   ]
  },
  {
   "cell_type": "markdown",
   "id": "1be29a73",
   "metadata": {},
   "source": [
    "# **2. Read alignment**\n",
    "### *Total Questions: 4*\n",
    "### *Total Points: 30+50+10+40 = 130*\n",
    "\n",
    "\n",
    "---"
   ]
  },
  {
   "cell_type": "markdown",
   "id": "eef406db",
   "metadata": {},
   "source": [
    "<div class=\"alert alert-block alert-warning\">\n",
    "    <h3>2.1 Steps before mapping</h3>\n",
    "    <p>You already have a fasta file, but sometimes alignment tools do not accept fasta files directly. Please read your aligners documentation and run all the preliminary steps require to run the mapping command from your aligner.</p>\n",
    "</div>"
   ]
  },
  {
   "cell_type": "markdown",
   "id": "69501c85",
   "metadata": {},
   "source": [
    "<div class=\"alert alert-block alert-info\">\n",
    "    <p>Preliminary commands go in the cells below. Please use appropriate comments and markdown texts to explain what your command is doing.</p>\n",
    "</div>"
   ]
  },
  {
   "cell_type": "code",
   "execution_count": 12,
   "id": "e6742cc0",
   "metadata": {
    "scrolled": true
   },
   "outputs": [
    {
     "name": "stdout",
     "output_type": "stream",
     "text": [
      "[bwa_index] Pack FASTA... 14.73 sec\n",
      "[bwa_index] Construct BWT for the packed sequence...\n",
      "[BWTIncCreate] textLength=6596861272, availableWord=476179232\n",
      "[BWTIncConstructFromPacked] 10 iterations done. 99999992 characters processed.\n",
      "[BWTIncConstructFromPacked] 20 iterations done. 199999992 characters processed.\n",
      "[BWTIncConstructFromPacked] 30 iterations done. 299999992 characters processed.\n",
      "[BWTIncConstructFromPacked] 40 iterations done. 399999992 characters processed.\n",
      "[BWTIncConstructFromPacked] 50 iterations done. 499999992 characters processed.\n",
      "[BWTIncConstructFromPacked] 60 iterations done. 599999992 characters processed.\n",
      "[BWTIncConstructFromPacked] 70 iterations done. 699999992 characters processed.\n",
      "[BWTIncConstructFromPacked] 80 iterations done. 799999992 characters processed.\n",
      "[BWTIncConstructFromPacked] 90 iterations done. 899999992 characters processed.\n",
      "[BWTIncConstructFromPacked] 100 iterations done. 999999992 characters processed.\n",
      "[BWTIncConstructFromPacked] 110 iterations done. 1099999992 characters processed.\n",
      "[BWTIncConstructFromPacked] 120 iterations done. 1199999992 characters processed.\n",
      "[BWTIncConstructFromPacked] 130 iterations done. 1299999992 characters processed.\n",
      "[BWTIncConstructFromPacked] 140 iterations done. 1399999992 characters processed.\n",
      "[BWTIncConstructFromPacked] 150 iterations done. 1499999992 characters processed.\n",
      "[BWTIncConstructFromPacked] 160 iterations done. 1599999992 characters processed.\n",
      "[BWTIncConstructFromPacked] 170 iterations done. 1699999992 characters processed.\n",
      "[BWTIncConstructFromPacked] 180 iterations done. 1799999992 characters processed.\n",
      "[BWTIncConstructFromPacked] 190 iterations done. 1899999992 characters processed.\n",
      "[BWTIncConstructFromPacked] 200 iterations done. 1999999992 characters processed.\n",
      "[BWTIncConstructFromPacked] 210 iterations done. 2099999992 characters processed.\n",
      "[BWTIncConstructFromPacked] 220 iterations done. 2199999992 characters processed.\n",
      "[BWTIncConstructFromPacked] 230 iterations done. 2299999992 characters processed.\n",
      "[BWTIncConstructFromPacked] 240 iterations done. 2399999992 characters processed.\n",
      "[BWTIncConstructFromPacked] 250 iterations done. 2499999992 characters processed.\n",
      "[BWTIncConstructFromPacked] 260 iterations done. 2599999992 characters processed.\n",
      "[BWTIncConstructFromPacked] 270 iterations done. 2699999992 characters processed.\n",
      "[BWTIncConstructFromPacked] 280 iterations done. 2799999992 characters processed.\n",
      "[BWTIncConstructFromPacked] 290 iterations done. 2899999992 characters processed.\n",
      "[BWTIncConstructFromPacked] 300 iterations done. 2999999992 characters processed.\n",
      "[BWTIncConstructFromPacked] 310 iterations done. 3099999992 characters processed.\n",
      "[BWTIncConstructFromPacked] 320 iterations done. 3199999992 characters processed.\n",
      "[BWTIncConstructFromPacked] 330 iterations done. 3299999992 characters processed.\n",
      "[BWTIncConstructFromPacked] 340 iterations done. 3399999992 characters processed.\n",
      "[BWTIncConstructFromPacked] 350 iterations done. 3499999992 characters processed.\n",
      "[BWTIncConstructFromPacked] 360 iterations done. 3599999992 characters processed.\n",
      "[BWTIncConstructFromPacked] 370 iterations done. 3699999992 characters processed.\n",
      "[BWTIncConstructFromPacked] 380 iterations done. 3799999992 characters processed.\n",
      "[BWTIncConstructFromPacked] 390 iterations done. 3899999992 characters processed.\n",
      "[BWTIncConstructFromPacked] 400 iterations done. 3999999992 characters processed.\n",
      "[BWTIncConstructFromPacked] 410 iterations done. 4099999992 characters processed.\n",
      "[BWTIncConstructFromPacked] 420 iterations done. 4199999992 characters processed.\n",
      "[BWTIncConstructFromPacked] 430 iterations done. 4299999992 characters processed.\n",
      "[BWTIncConstructFromPacked] 440 iterations done. 4399999992 characters processed.\n",
      "[BWTIncConstructFromPacked] 450 iterations done. 4499999992 characters processed.\n",
      "[BWTIncConstructFromPacked] 460 iterations done. 4599999992 characters processed.\n",
      "[BWTIncConstructFromPacked] 470 iterations done. 4699999992 characters processed.\n",
      "[BWTIncConstructFromPacked] 480 iterations done. 4799999992 characters processed.\n",
      "[BWTIncConstructFromPacked] 490 iterations done. 4899999992 characters processed.\n",
      "[BWTIncConstructFromPacked] 500 iterations done. 4999999992 characters processed.\n",
      "[BWTIncConstructFromPacked] 510 iterations done. 5099999992 characters processed.\n",
      "[BWTIncConstructFromPacked] 520 iterations done. 5199999992 characters processed.\n",
      "[BWTIncConstructFromPacked] 530 iterations done. 5299999992 characters processed.\n",
      "[BWTIncConstructFromPacked] 540 iterations done. 5399999992 characters processed.\n",
      "[BWTIncConstructFromPacked] 550 iterations done. 5499999992 characters processed.\n",
      "[BWTIncConstructFromPacked] 560 iterations done. 5599999992 characters processed.\n",
      "[BWTIncConstructFromPacked] 570 iterations done. 5699999992 characters processed.\n",
      "[BWTIncConstructFromPacked] 580 iterations done. 5799999992 characters processed.\n",
      "[BWTIncConstructFromPacked] 590 iterations done. 5899999992 characters processed.\n",
      "[BWTIncConstructFromPacked] 600 iterations done. 5996509032 characters processed.\n",
      "[BWTIncConstructFromPacked] 610 iterations done. 6082533112 characters processed.\n",
      "[BWTIncConstructFromPacked] 620 iterations done. 6158987528 characters processed.\n",
      "[BWTIncConstructFromPacked] 630 iterations done. 6226936392 characters processed.\n",
      "[BWTIncConstructFromPacked] 640 iterations done. 6287325512 characters processed.\n",
      "[BWTIncConstructFromPacked] 650 iterations done. 6340995480 characters processed.\n",
      "[BWTIncConstructFromPacked] 660 iterations done. 6388693480 characters processed.\n",
      "[BWTIncConstructFromPacked] 670 iterations done. 6431083592 characters processed.\n",
      "[BWTIncConstructFromPacked] 680 iterations done. 6468755960 characters processed.\n",
      "[BWTIncConstructFromPacked] 690 iterations done. 6502235256 characters processed.\n",
      "[BWTIncConstructFromPacked] 700 iterations done. 6531987704 characters processed.\n",
      "[BWTIncConstructFromPacked] 710 iterations done. 6558427720 characters processed.\n",
      "[BWTIncConstructFromPacked] 720 iterations done. 6581923640 characters processed.\n",
      "[bwt_gen] Finished constructing BWT in 728 iterations.\n",
      "[bwa_index] 2209.93 seconds elapse.\n",
      "[bwa_index] Update BWT... 10.26 sec\n",
      "[bwa_index] Pack forward-only FASTA... 10.01 sec\n",
      "[bwa_index] Construct SA from BWT and Occ... 665.79 sec\n",
      "[main] Version: 0.7.17-r1188\n",
      "[main] CMD: bwa index ../scratch/Data/Project2/GCF_000001405.40_GRCh38.p14_genomic.fna\n",
      "[main] Real time: 2911.434 sec; CPU: 2910.754 sec\n"
     ]
    }
   ],
   "source": [
    "#Write your commands here. Insert more cells if necessary\n",
    "!bwa index ../scratch/Data/Project2/GCF_000001405.40_GRCh38.p14_genomic.fna"
   ]
  },
  {
   "cell_type": "code",
   "execution_count": 3,
   "id": "becbd45d",
   "metadata": {},
   "outputs": [
    {
     "name": "stdout",
     "output_type": "stream",
     "text": [
      "total 9.7G\r\n",
      "-rw------- 1 cwijeyesekera3 gtperson 3.2G Oct 30 15:25 GCF_000001405.40_GRCh38.p14_genomic.fna\r\n",
      "-rw-r--r-- 1 cwijeyesekera3 gtperson  22K Oct 30 16:47 GCF_000001405.40_GRCh38.p14_genomic.fna.amb\r\n",
      "-rw-r--r-- 1 cwijeyesekera3 gtperson  91K Oct 30 16:47 GCF_000001405.40_GRCh38.p14_genomic.fna.ann\r\n",
      "-rw-r--r-- 1 cwijeyesekera3 gtperson 3.1G Oct 30 16:47 GCF_000001405.40_GRCh38.p14_genomic.fna.bwt\r\n",
      "-rw-r--r-- 1 cwijeyesekera3 gtperson 787M Oct 30 16:47 GCF_000001405.40_GRCh38.p14_genomic.fna.pac\r\n",
      "-rw-r--r-- 1 cwijeyesekera3 gtperson 1.6G Oct 30 16:58 GCF_000001405.40_GRCh38.p14_genomic.fna.sa\r\n",
      "-rw-r--r-- 1 cwijeyesekera3 gtperson 1.2G Oct 30 15:26 GCF_000001405.40.zip\r\n",
      "-rw------- 1 cwijeyesekera3 gtperson 1.6K Oct 30 15:25 README.md\r\n"
     ]
    }
   ],
   "source": [
    "#Run \"ls -lh\" to show what additional files were created in addition to your original fasta files.\n",
    "!ls -lh ../scratch/Data/Project2/"
   ]
  },
  {
   "cell_type": "markdown",
   "id": "e549fcbe",
   "metadata": {},
   "source": [
    "<div class=\"alert alert-block alert-warning\">\n",
    "    <h3>2.2 Run mapping.</h3>\n",
    "    <p>This should be one or two lines of code but it's important to understand what the options are doing.</p>\n",
    "</div>"
   ]
  },
  {
   "cell_type": "code",
   "execution_count": 4,
   "id": "d477ef96",
   "metadata": {},
   "outputs": [
    {
     "name": "stdout",
     "output_type": "stream",
     "text": [
      "[M::bwa_idx_load_from_disk] read 0 ALT contigs\n",
      "[M::process] read 4004894 sequences (240000058 bp)...\n",
      "[M::mem_pestat] # candidate unique pairs for (FF, FR, RF, RR): (12, 1431509, 33, 8)\n",
      "[M::mem_pestat] analyzing insert size distribution for orientation FF...\n",
      "[M::mem_pestat] (25, 50, 75) percentile: (401, 890, 1049)\n",
      "[M::mem_pestat] low and high boundaries for computing mean and std.dev: (1, 2345)\n",
      "[M::mem_pestat] mean and std.dev: (716.27, 311.08)\n",
      "[M::mem_pestat] low and high boundaries for proper pairs: (1, 2993)\n",
      "[M::mem_pestat] analyzing insert size distribution for orientation FR...\n",
      "[M::mem_pestat] (25, 50, 75) percentile: (376, 386, 396)\n",
      "[M::mem_pestat] low and high boundaries for computing mean and std.dev: (336, 436)\n",
      "[M::mem_pestat] mean and std.dev: (386.32, 13.46)\n",
      "[M::mem_pestat] low and high boundaries for proper pairs: (316, 456)\n",
      "[M::mem_pestat] analyzing insert size distribution for orientation RF...\n",
      "[M::mem_pestat] (25, 50, 75) percentile: (339, 1075, 5284)\n",
      "[M::mem_pestat] low and high boundaries for computing mean and std.dev: (1, 15174)\n",
      "[M::mem_pestat] mean and std.dev: (2871.27, 2959.75)\n",
      "[M::mem_pestat] low and high boundaries for proper pairs: (1, 20119)\n",
      "[M::mem_pestat] skip orientation RR as there are not enough pairs\n",
      "[M::mem_pestat] skip orientation FF\n",
      "[M::mem_pestat] skip orientation RF\n",
      "[M::process] read 4004856 sequences (240000096 bp)...\n",
      "[M::mem_process_seqs] Processed 4004894 reads in 1211.497 CPU sec, 311.968 real sec\n",
      "[M::process] read 4004914 sequences (240000012 bp)...\n",
      "[M::mem_pestat] # candidate unique pairs for (FF, FR, RF, RR): (11, 1431324, 27, 16)\n",
      "[M::mem_pestat] analyzing insert size distribution for orientation FF...\n",
      "[M::mem_pestat] (25, 50, 75) percentile: (1215, 1393, 6624)\n",
      "[M::mem_pestat] low and high boundaries for computing mean and std.dev: (1, 17442)\n",
      "[M::mem_pestat] mean and std.dev: (2842.27, 2910.21)\n",
      "[M::mem_pestat] low and high boundaries for proper pairs: (1, 22851)\n",
      "[M::mem_pestat] analyzing insert size distribution for orientation FR...\n",
      "[M::mem_pestat] (25, 50, 75) percentile: (376, 386, 396)\n",
      "[M::mem_pestat] low and high boundaries for computing mean and std.dev: (336, 436)\n",
      "[M::mem_pestat] mean and std.dev: (386.31, 13.46)\n",
      "[M::mem_pestat] low and high boundaries for proper pairs: (316, 456)\n",
      "[M::mem_pestat] analyzing insert size distribution for orientation RF...\n",
      "[M::mem_pestat] (25, 50, 75) percentile: (749, 1999, 4712)\n",
      "[M::mem_pestat] low and high boundaries for computing mean and std.dev: (1, 12638)\n",
      "[M::mem_pestat] mean and std.dev: (2719.41, 2452.78)\n",
      "[M::mem_pestat] low and high boundaries for proper pairs: (1, 16601)\n",
      "[M::mem_pestat] analyzing insert size distribution for orientation RR...\n",
      "[M::mem_pestat] (25, 50, 75) percentile: (965, 1381, 4332)\n",
      "[M::mem_pestat] low and high boundaries for computing mean and std.dev: (1, 11066)\n",
      "[M::mem_pestat] mean and std.dev: (2599.94, 2754.17)\n",
      "[M::mem_pestat] low and high boundaries for proper pairs: (1, 14433)\n",
      "[M::mem_pestat] skip orientation FF\n",
      "[M::mem_pestat] skip orientation RF\n",
      "[M::mem_pestat] skip orientation RR\n",
      "[M::mem_process_seqs] Processed 4004856 reads in 1178.229 CPU sec, 148.894 real sec\n",
      "[M::process] read 4004878 sequences (240000034 bp)...\n",
      "[M::mem_pestat] # candidate unique pairs for (FF, FR, RF, RR): (17, 1432547, 23, 19)\n",
      "[M::mem_pestat] analyzing insert size distribution for orientation FF...\n",
      "[M::mem_pestat] (25, 50, 75) percentile: (369, 774, 3142)\n",
      "[M::mem_pestat] low and high boundaries for computing mean and std.dev: (1, 8688)\n",
      "[M::mem_pestat] mean and std.dev: (1541.53, 1358.01)\n",
      "[M::mem_pestat] low and high boundaries for proper pairs: (1, 11461)\n",
      "[M::mem_pestat] analyzing insert size distribution for orientation FR...\n",
      "[M::mem_pestat] (25, 50, 75) percentile: (376, 386, 396)\n",
      "[M::mem_pestat] low and high boundaries for computing mean and std.dev: (336, 436)\n",
      "[M::mem_pestat] mean and std.dev: (386.32, 13.46)\n",
      "[M::mem_pestat] low and high boundaries for proper pairs: (316, 456)\n",
      "[M::mem_pestat] analyzing insert size distribution for orientation RF...\n",
      "[M::mem_pestat] (25, 50, 75) percentile: (116, 738, 2001)\n",
      "[M::mem_pestat] low and high boundaries for computing mean and std.dev: (1, 5771)\n",
      "[M::mem_pestat] mean and std.dev: (1358.74, 1464.08)\n",
      "[M::mem_pestat] low and high boundaries for proper pairs: (1, 7656)\n",
      "[M::mem_pestat] analyzing insert size distribution for orientation RR...\n",
      "[M::mem_pestat] (25, 50, 75) percentile: (1183, 1566, 3128)\n",
      "[M::mem_pestat] low and high boundaries for computing mean and std.dev: (1, 7018)\n",
      "[M::mem_pestat] mean and std.dev: (1792.94, 1005.24)\n",
      "[M::mem_pestat] low and high boundaries for proper pairs: (1, 8963)\n",
      "[M::mem_pestat] skip orientation FF\n",
      "[M::mem_pestat] skip orientation RF\n",
      "[M::mem_pestat] skip orientation RR\n",
      "[M::mem_process_seqs] Processed 4004914 reads in 1186.525 CPU sec, 149.580 real sec\n",
      "[M::process] read 4004904 sequences (240000090 bp)...\n",
      "[M::mem_pestat] # candidate unique pairs for (FF, FR, RF, RR): (16, 1432234, 30, 18)\n",
      "[M::mem_pestat] analyzing insert size distribution for orientation FF...\n",
      "[M::mem_pestat] (25, 50, 75) percentile: (473, 1350, 4097)\n",
      "[M::mem_pestat] low and high boundaries for computing mean and std.dev: (1, 11345)\n",
      "[M::mem_pestat] mean and std.dev: (2482.94, 3055.18)\n",
      "[M::mem_pestat] low and high boundaries for proper pairs: (1, 14969)\n",
      "[M::mem_pestat] analyzing insert size distribution for orientation FR...\n",
      "[M::mem_pestat] (25, 50, 75) percentile: (376, 386, 396)\n",
      "[M::mem_pestat] low and high boundaries for computing mean and std.dev: (336, 436)\n",
      "[M::mem_pestat] mean and std.dev: (386.34, 13.46)\n",
      "[M::mem_pestat] low and high boundaries for proper pairs: (316, 456)\n",
      "[M::mem_pestat] analyzing insert size distribution for orientation RF...\n",
      "[M::mem_pestat] (25, 50, 75) percentile: (228, 752, 1992)\n",
      "[M::mem_pestat] low and high boundaries for computing mean and std.dev: (1, 5520)\n",
      "[M::mem_pestat] mean and std.dev: (969.08, 1209.88)\n",
      "[M::mem_pestat] low and high boundaries for proper pairs: (1, 7284)\n",
      "[M::mem_pestat] analyzing insert size distribution for orientation RR...\n",
      "[M::mem_pestat] (25, 50, 75) percentile: (989, 2370, 3388)\n",
      "[M::mem_pestat] low and high boundaries for computing mean and std.dev: (1, 8186)\n",
      "[M::mem_pestat] mean and std.dev: (2432.22, 1718.99)\n",
      "[M::mem_pestat] low and high boundaries for proper pairs: (1, 10585)\n",
      "[M::mem_pestat] skip orientation FF\n",
      "[M::mem_pestat] skip orientation RF\n",
      "[M::mem_pestat] skip orientation RR\n",
      "[M::mem_process_seqs] Processed 4004878 reads in 1189.870 CPU sec, 149.717 real sec\n",
      "[M::process] read 4004948 sequences (240000088 bp)...\n",
      "[M::mem_pestat] # candidate unique pairs for (FF, FR, RF, RR): (19, 1434116, 27, 15)\n",
      "[M::mem_pestat] analyzing insert size distribution for orientation FF...\n",
      "[M::mem_pestat] (25, 50, 75) percentile: (665, 950, 1818)\n",
      "[M::mem_pestat] low and high boundaries for computing mean and std.dev: (1, 4124)\n",
      "[M::mem_pestat] mean and std.dev: (1127.41, 870.93)\n",
      "[M::mem_pestat] low and high boundaries for proper pairs: (1, 5277)\n",
      "[M::mem_pestat] analyzing insert size distribution for orientation FR...\n",
      "[M::mem_pestat] (25, 50, 75) percentile: (376, 386, 396)\n",
      "[M::mem_pestat] low and high boundaries for computing mean and std.dev: (336, 436)\n",
      "[M::mem_pestat] mean and std.dev: (386.32, 13.45)\n",
      "[M::mem_pestat] low and high boundaries for proper pairs: (316, 456)\n",
      "[M::mem_pestat] analyzing insert size distribution for orientation RF...\n",
      "[M::mem_pestat] (25, 50, 75) percentile: (416, 1942, 2880)\n",
      "[M::mem_pestat] low and high boundaries for computing mean and std.dev: (1, 7808)\n",
      "[M::mem_pestat] mean and std.dev: (1806.24, 1898.84)\n",
      "[M::mem_pestat] low and high boundaries for proper pairs: (1, 10272)\n",
      "[M::mem_pestat] analyzing insert size distribution for orientation RR...\n",
      "[M::mem_pestat] (25, 50, 75) percentile: (978, 1466, 3209)\n",
      "[M::mem_pestat] low and high boundaries for computing mean and std.dev: (1, 7671)\n",
      "[M::mem_pestat] mean and std.dev: (1616.38, 1221.66)\n",
      "[M::mem_pestat] low and high boundaries for proper pairs: (1, 9902)\n",
      "[M::mem_pestat] skip orientation FF\n",
      "[M::mem_pestat] skip orientation RF\n",
      "[M::mem_pestat] skip orientation RR\n",
      "[M::mem_process_seqs] Processed 4004904 reads in 1193.691 CPU sec, 150.154 real sec\n",
      "[M::process] read 4004988 sequences (240000054 bp)...\n"
     ]
    },
    {
     "name": "stdout",
     "output_type": "stream",
     "text": [
      "[M::mem_pestat] # candidate unique pairs for (FF, FR, RF, RR): (13, 1433168, 23, 19)\n",
      "[M::mem_pestat] analyzing insert size distribution for orientation FF...\n",
      "[M::mem_pestat] (25, 50, 75) percentile: (502, 950, 2923)\n",
      "[M::mem_pestat] low and high boundaries for computing mean and std.dev: (1, 7765)\n",
      "[M::mem_pestat] mean and std.dev: (1277.58, 1030.22)\n",
      "[M::mem_pestat] low and high boundaries for proper pairs: (1, 10186)\n",
      "[M::mem_pestat] analyzing insert size distribution for orientation FR...\n",
      "[M::mem_pestat] (25, 50, 75) percentile: (376, 386, 396)\n",
      "[M::mem_pestat] low and high boundaries for computing mean and std.dev: (336, 436)\n",
      "[M::mem_pestat] mean and std.dev: (386.30, 13.44)\n",
      "[M::mem_pestat] low and high boundaries for proper pairs: (316, 456)\n",
      "[M::mem_pestat] analyzing insert size distribution for orientation RF...\n",
      "[M::mem_pestat] (25, 50, 75) percentile: (892, 1663, 2020)\n",
      "[M::mem_pestat] low and high boundaries for computing mean and std.dev: (1, 4276)\n",
      "[M::mem_pestat] mean and std.dev: (1377.25, 939.00)\n",
      "[M::mem_pestat] low and high boundaries for proper pairs: (1, 5404)\n",
      "[M::mem_pestat] analyzing insert size distribution for orientation RR...\n",
      "[M::mem_pestat] (25, 50, 75) percentile: (877, 1303, 2246)\n",
      "[M::mem_pestat] low and high boundaries for computing mean and std.dev: (1, 4984)\n",
      "[M::mem_pestat] mean and std.dev: (1528.72, 1175.06)\n",
      "[M::mem_pestat] low and high boundaries for proper pairs: (1, 6353)\n",
      "[M::mem_pestat] skip orientation FF\n",
      "[M::mem_pestat] skip orientation RF\n",
      "[M::mem_pestat] skip orientation RR\n",
      "[M::mem_process_seqs] Processed 4004948 reads in 1201.006 CPU sec, 151.132 real sec\n",
      "[M::process] read 4004838 sequences (240000090 bp)...\n",
      "[M::mem_pestat] # candidate unique pairs for (FF, FR, RF, RR): (11, 1434195, 29, 13)\n",
      "[M::mem_pestat] analyzing insert size distribution for orientation FF...\n",
      "[M::mem_pestat] (25, 50, 75) percentile: (623, 678, 1450)\n",
      "[M::mem_pestat] low and high boundaries for computing mean and std.dev: (1, 3104)\n",
      "[M::mem_pestat] mean and std.dev: (978.82, 613.61)\n",
      "[M::mem_pestat] low and high boundaries for proper pairs: (1, 3931)\n",
      "[M::mem_pestat] analyzing insert size distribution for orientation FR...\n",
      "[M::mem_pestat] (25, 50, 75) percentile: (376, 386, 396)\n",
      "[M::mem_pestat] low and high boundaries for computing mean and std.dev: (336, 436)\n",
      "[M::mem_pestat] mean and std.dev: (386.30, 13.45)\n",
      "[M::mem_pestat] low and high boundaries for proper pairs: (316, 456)\n",
      "[M::mem_pestat] analyzing insert size distribution for orientation RF...\n",
      "[M::mem_pestat] (25, 50, 75) percentile: (69, 528, 2019)\n",
      "[M::mem_pestat] low and high boundaries for computing mean and std.dev: (1, 5919)\n",
      "[M::mem_pestat] mean and std.dev: (992.56, 1245.60)\n",
      "[M::mem_pestat] low and high boundaries for proper pairs: (1, 7869)\n",
      "[M::mem_pestat] analyzing insert size distribution for orientation RR...\n",
      "[M::mem_pestat] (25, 50, 75) percentile: (972, 1242, 5833)\n",
      "[M::mem_pestat] low and high boundaries for computing mean and std.dev: (1, 15555)\n",
      "[M::mem_pestat] mean and std.dev: (2712.54, 2663.16)\n",
      "[M::mem_pestat] low and high boundaries for proper pairs: (1, 20416)\n",
      "[M::mem_pestat] skip orientation FF\n",
      "[M::mem_pestat] skip orientation RF\n",
      "[M::mem_pestat] skip orientation RR\n",
      "[M::mem_process_seqs] Processed 4004988 reads in 1196.404 CPU sec, 150.519 real sec\n",
      "[M::process] read 4004930 sequences (240000032 bp)...\n",
      "[M::mem_pestat] # candidate unique pairs for (FF, FR, RF, RR): (17, 1433778, 27, 14)\n",
      "[M::mem_pestat] analyzing insert size distribution for orientation FF...\n",
      "[M::mem_pestat] (25, 50, 75) percentile: (353, 978, 1921)\n",
      "[M::mem_pestat] low and high boundaries for computing mean and std.dev: (1, 5057)\n",
      "[M::mem_pestat] mean and std.dev: (1129.44, 1039.60)\n",
      "[M::mem_pestat] low and high boundaries for proper pairs: (1, 6625)\n",
      "[M::mem_pestat] analyzing insert size distribution for orientation FR...\n",
      "[M::mem_pestat] (25, 50, 75) percentile: (376, 386, 396)\n",
      "[M::mem_pestat] low and high boundaries for computing mean and std.dev: (336, 436)\n",
      "[M::mem_pestat] mean and std.dev: (386.34, 13.45)\n",
      "[M::mem_pestat] low and high boundaries for proper pairs: (316, 456)\n",
      "[M::mem_pestat] analyzing insert size distribution for orientation RF...\n",
      "[M::mem_pestat] (25, 50, 75) percentile: (755, 1920, 3062)\n",
      "[M::mem_pestat] low and high boundaries for computing mean and std.dev: (1, 7676)\n",
      "[M::mem_pestat] mean and std.dev: (2121.73, 2109.22)\n",
      "[M::mem_pestat] low and high boundaries for proper pairs: (1, 10559)\n",
      "[M::mem_pestat] analyzing insert size distribution for orientation RR...\n",
      "[M::mem_pestat] (25, 50, 75) percentile: (794, 1791, 3411)\n",
      "[M::mem_pestat] low and high boundaries for computing mean and std.dev: (1, 8645)\n",
      "[M::mem_pestat] mean and std.dev: (2080.21, 1445.51)\n",
      "[M::mem_pestat] low and high boundaries for proper pairs: (1, 11262)\n",
      "[M::mem_pestat] skip orientation FF\n",
      "[M::mem_pestat] skip orientation RF\n",
      "[M::mem_pestat] skip orientation RR\n",
      "[M::mem_process_seqs] Processed 4004838 reads in 1191.712 CPU sec, 149.914 real sec\n",
      "[M::process] read 4004824 sequences (240000104 bp)...\n",
      "[M::mem_pestat] # candidate unique pairs for (FF, FR, RF, RR): (11, 1434439, 38, 20)\n",
      "[M::mem_pestat] analyzing insert size distribution for orientation FF...\n",
      "[M::mem_pestat] (25, 50, 75) percentile: (1280, 1820, 2910)\n",
      "[M::mem_pestat] low and high boundaries for computing mean and std.dev: (1, 6170)\n",
      "[M::mem_pestat] mean and std.dev: (1948.91, 1048.99)\n",
      "[M::mem_pestat] low and high boundaries for proper pairs: (1, 7800)\n",
      "[M::mem_pestat] analyzing insert size distribution for orientation FR...\n",
      "[M::mem_pestat] (25, 50, 75) percentile: (376, 386, 396)\n",
      "[M::mem_pestat] low and high boundaries for computing mean and std.dev: (336, 436)\n",
      "[M::mem_pestat] mean and std.dev: (386.35, 13.44)\n",
      "[M::mem_pestat] low and high boundaries for proper pairs: (316, 456)\n",
      "[M::mem_pestat] analyzing insert size distribution for orientation RF...\n",
      "[M::mem_pestat] (25, 50, 75) percentile: (162, 977, 2195)\n",
      "[M::mem_pestat] low and high boundaries for computing mean and std.dev: (1, 6261)\n",
      "[M::mem_pestat] mean and std.dev: (1458.97, 1626.40)\n",
      "[M::mem_pestat] low and high boundaries for proper pairs: (1, 8294)\n",
      "[M::mem_pestat] analyzing insert size distribution for orientation RR...\n",
      "[M::mem_pestat] (25, 50, 75) percentile: (835, 1382, 1714)\n",
      "[M::mem_pestat] low and high boundaries for computing mean and std.dev: (1, 3472)\n",
      "[M::mem_pestat] mean and std.dev: (1211.39, 559.30)\n",
      "[M::mem_pestat] low and high boundaries for proper pairs: (1, 4351)\n",
      "[M::mem_pestat] skip orientation FF\n",
      "[M::mem_pestat] skip orientation RF\n",
      "[M::mem_pestat] skip orientation RR\n",
      "[M::mem_process_seqs] Processed 4004930 reads in 1190.246 CPU sec, 149.730 real sec\n",
      "[M::process] read 4004934 sequences (240000064 bp)...\n",
      "[M::mem_pestat] # candidate unique pairs for (FF, FR, RF, RR): (8, 1432524, 24, 13)\n",
      "[M::mem_pestat] skip orientation FF as there are not enough pairs\n",
      "[M::mem_pestat] analyzing insert size distribution for orientation FR...\n",
      "[M::mem_pestat] (25, 50, 75) percentile: (376, 386, 396)\n",
      "[M::mem_pestat] low and high boundaries for computing mean and std.dev: (336, 436)\n",
      "[M::mem_pestat] mean and std.dev: (386.34, 13.45)\n",
      "[M::mem_pestat] low and high boundaries for proper pairs: (316, 456)\n",
      "[M::mem_pestat] analyzing insert size distribution for orientation RF...\n",
      "[M::mem_pestat] (25, 50, 75) percentile: (206, 1550, 2745)\n",
      "[M::mem_pestat] low and high boundaries for computing mean and std.dev: (1, 7823)\n",
      "[M::mem_pestat] mean and std.dev: (1402.91, 1242.26)\n",
      "[M::mem_pestat] low and high boundaries for proper pairs: (1, 10362)\n",
      "[M::mem_pestat] analyzing insert size distribution for orientation RR...\n",
      "[M::mem_pestat] (25, 50, 75) percentile: (417, 1034, 2290)\n",
      "[M::mem_pestat] low and high boundaries for computing mean and std.dev: (1, 6036)\n",
      "[M::mem_pestat] mean and std.dev: (1266.67, 909.70)\n",
      "[M::mem_pestat] low and high boundaries for proper pairs: (1, 7909)\n",
      "[M::mem_pestat] skip orientation RF\n",
      "[M::mem_pestat] skip orientation RR\n",
      "[M::mem_process_seqs] Processed 4004824 reads in 1189.037 CPU sec, 149.566 real sec\n",
      "[M::process] read 4004836 sequences (240000076 bp)...\n",
      "[M::mem_pestat] # candidate unique pairs for (FF, FR, RF, RR): (11, 1432206, 22, 13)\n",
      "[M::mem_pestat] analyzing insert size distribution for orientation FF...\n",
      "[M::mem_pestat] (25, 50, 75) percentile: (954, 1389, 2798)\n",
      "[M::mem_pestat] low and high boundaries for computing mean and std.dev: (1, 6486)\n",
      "[M::mem_pestat] mean and std.dev: (1712.55, 1335.95)\n",
      "[M::mem_pestat] low and high boundaries for proper pairs: (1, 8330)\n",
      "[M::mem_pestat] analyzing insert size distribution for orientation FR...\n"
     ]
    },
    {
     "name": "stdout",
     "output_type": "stream",
     "text": [
      "[M::mem_pestat] (25, 50, 75) percentile: (376, 386, 396)\n",
      "[M::mem_pestat] low and high boundaries for computing mean and std.dev: (336, 436)\n",
      "[M::mem_pestat] mean and std.dev: (386.36, 13.45)\n",
      "[M::mem_pestat] low and high boundaries for proper pairs: (316, 456)\n",
      "[M::mem_pestat] analyzing insert size distribution for orientation RF...\n",
      "[M::mem_pestat] (25, 50, 75) percentile: (634, 1668, 2835)\n",
      "[M::mem_pestat] low and high boundaries for computing mean and std.dev: (1, 7237)\n",
      "[M::mem_pestat] mean and std.dev: (1742.62, 1599.49)\n",
      "[M::mem_pestat] low and high boundaries for proper pairs: (1, 9438)\n",
      "[M::mem_pestat] analyzing insert size distribution for orientation RR...\n",
      "[M::mem_pestat] (25, 50, 75) percentile: (741, 1139, 2577)\n",
      "[M::mem_pestat] low and high boundaries for computing mean and std.dev: (1, 6249)\n",
      "[M::mem_pestat] mean and std.dev: (1378.69, 887.08)\n",
      "[M::mem_pestat] low and high boundaries for proper pairs: (1, 8085)\n",
      "[M::mem_pestat] skip orientation FF\n",
      "[M::mem_pestat] skip orientation RF\n",
      "[M::mem_pestat] skip orientation RR\n",
      "[M::mem_process_seqs] Processed 4004934 reads in 1185.958 CPU sec, 149.193 real sec\n",
      "[M::process] read 4004800 sequences (240000086 bp)...\n",
      "[M::mem_pestat] # candidate unique pairs for (FF, FR, RF, RR): (16, 1431911, 34, 26)\n",
      "[M::mem_pestat] analyzing insert size distribution for orientation FF...\n",
      "[M::mem_pestat] (25, 50, 75) percentile: (876, 1272, 2096)\n",
      "[M::mem_pestat] low and high boundaries for computing mean and std.dev: (1, 4536)\n",
      "[M::mem_pestat] mean and std.dev: (1391.00, 607.94)\n",
      "[M::mem_pestat] low and high boundaries for proper pairs: (1, 5756)\n",
      "[M::mem_pestat] analyzing insert size distribution for orientation FR...\n",
      "[M::mem_pestat] (25, 50, 75) percentile: (376, 386, 396)\n",
      "[M::mem_pestat] low and high boundaries for computing mean and std.dev: (336, 436)\n",
      "[M::mem_pestat] mean and std.dev: (386.34, 13.46)\n",
      "[M::mem_pestat] low and high boundaries for proper pairs: (316, 456)\n",
      "[M::mem_pestat] analyzing insert size distribution for orientation RF...\n",
      "[M::mem_pestat] (25, 50, 75) percentile: (416, 2233, 4487)\n",
      "[M::mem_pestat] low and high boundaries for computing mean and std.dev: (1, 12629)\n",
      "[M::mem_pestat] mean and std.dev: (2906.65, 2605.03)\n",
      "[M::mem_pestat] low and high boundaries for proper pairs: (1, 16700)\n",
      "[M::mem_pestat] analyzing insert size distribution for orientation RR...\n",
      "[M::mem_pestat] (25, 50, 75) percentile: (806, 1478, 2412)\n",
      "[M::mem_pestat] low and high boundaries for computing mean and std.dev: (1, 5624)\n",
      "[M::mem_pestat] mean and std.dev: (1696.68, 1344.85)\n",
      "[M::mem_pestat] low and high boundaries for proper pairs: (1, 7230)\n",
      "[M::mem_pestat] skip orientation FF\n",
      "[M::mem_pestat] skip orientation RF\n",
      "[M::mem_pestat] skip orientation RR\n",
      "[M::mem_process_seqs] Processed 4004836 reads in 1183.819 CPU sec, 148.904 real sec\n",
      "[M::process] read 4004844 sequences (240000052 bp)...\n",
      "[M::mem_pestat] # candidate unique pairs for (FF, FR, RF, RR): (18, 1430477, 30, 15)\n",
      "[M::mem_pestat] analyzing insert size distribution for orientation FF...\n",
      "[M::mem_pestat] (25, 50, 75) percentile: (544, 1249, 2351)\n",
      "[M::mem_pestat] low and high boundaries for computing mean and std.dev: (1, 5965)\n",
      "[M::mem_pestat] mean and std.dev: (1433.47, 1113.09)\n",
      "[M::mem_pestat] low and high boundaries for proper pairs: (1, 7772)\n",
      "[M::mem_pestat] analyzing insert size distribution for orientation FR...\n",
      "[M::mem_pestat] (25, 50, 75) percentile: (376, 386, 396)\n",
      "[M::mem_pestat] low and high boundaries for computing mean and std.dev: (336, 436)\n",
      "[M::mem_pestat] mean and std.dev: (386.33, 13.47)\n",
      "[M::mem_pestat] low and high boundaries for proper pairs: (316, 456)\n",
      "[M::mem_pestat] analyzing insert size distribution for orientation RF...\n",
      "[M::mem_pestat] (25, 50, 75) percentile: (235, 1189, 2677)\n",
      "[M::mem_pestat] low and high boundaries for computing mean and std.dev: (1, 7561)\n",
      "[M::mem_pestat] mean and std.dev: (1748.97, 1925.84)\n",
      "[M::mem_pestat] low and high boundaries for proper pairs: (1, 10003)\n",
      "[M::mem_pestat] analyzing insert size distribution for orientation RR...\n",
      "[M::mem_pestat] (25, 50, 75) percentile: (1061, 1203, 2210)\n",
      "[M::mem_pestat] low and high boundaries for computing mean and std.dev: (1, 4508)\n",
      "[M::mem_pestat] mean and std.dev: (1174.25, 541.55)\n",
      "[M::mem_pestat] low and high boundaries for proper pairs: (1, 5657)\n",
      "[M::mem_pestat] skip orientation FF\n",
      "[M::mem_pestat] skip orientation RF\n",
      "[M::mem_pestat] skip orientation RR\n",
      "[M::mem_process_seqs] Processed 4004800 reads in 1185.094 CPU sec, 149.092 real sec\n",
      "[M::process] read 2961274 sequences (177458268 bp)...\n",
      "[M::mem_pestat] # candidate unique pairs for (FF, FR, RF, RR): (14, 1430491, 33, 16)\n",
      "[M::mem_pestat] analyzing insert size distribution for orientation FF...\n",
      "[M::mem_pestat] (25, 50, 75) percentile: (422, 962, 1131)\n",
      "[M::mem_pestat] low and high boundaries for computing mean and std.dev: (1, 2549)\n",
      "[M::mem_pestat] mean and std.dev: (853.08, 414.38)\n",
      "[M::mem_pestat] low and high boundaries for proper pairs: (1, 3258)\n",
      "[M::mem_pestat] analyzing insert size distribution for orientation FR...\n",
      "[M::mem_pestat] (25, 50, 75) percentile: (376, 386, 396)\n",
      "[M::mem_pestat] low and high boundaries for computing mean and std.dev: (336, 436)\n",
      "[M::mem_pestat] mean and std.dev: (386.32, 13.46)\n",
      "[M::mem_pestat] low and high boundaries for proper pairs: (316, 456)\n",
      "[M::mem_pestat] analyzing insert size distribution for orientation RF...\n",
      "[M::mem_pestat] (25, 50, 75) percentile: (79, 752, 1851)\n",
      "[M::mem_pestat] low and high boundaries for computing mean and std.dev: (1, 5395)\n",
      "[M::mem_pestat] mean and std.dev: (1071.50, 1144.83)\n",
      "[M::mem_pestat] low and high boundaries for proper pairs: (1, 7167)\n",
      "[M::mem_pestat] analyzing insert size distribution for orientation RR...\n",
      "[M::mem_pestat] (25, 50, 75) percentile: (727, 1659, 2429)\n",
      "[M::mem_pestat] low and high boundaries for computing mean and std.dev: (1, 5833)\n",
      "[M::mem_pestat] mean and std.dev: (1447.07, 915.04)\n",
      "[M::mem_pestat] low and high boundaries for proper pairs: (1, 7535)\n",
      "[M::mem_pestat] skip orientation FF\n",
      "[M::mem_pestat] skip orientation RF\n",
      "[M::mem_pestat] skip orientation RR\n",
      "[M::mem_process_seqs] Processed 4004844 reads in 1180.778 CPU sec, 148.517 real sec\n",
      "[M::mem_pestat] # candidate unique pairs for (FF, FR, RF, RR): (12, 1057836, 18, 13)\n",
      "[M::mem_pestat] analyzing insert size distribution for orientation FF...\n",
      "[M::mem_pestat] (25, 50, 75) percentile: (634, 873, 4409)\n",
      "[M::mem_pestat] low and high boundaries for computing mean and std.dev: (1, 11959)\n",
      "[M::mem_pestat] mean and std.dev: (2169.00, 2439.72)\n",
      "[M::mem_pestat] low and high boundaries for proper pairs: (1, 15734)\n",
      "[M::mem_pestat] analyzing insert size distribution for orientation FR...\n",
      "[M::mem_pestat] (25, 50, 75) percentile: (376, 386, 396)\n",
      "[M::mem_pestat] low and high boundaries for computing mean and std.dev: (336, 436)\n",
      "[M::mem_pestat] mean and std.dev: (386.28, 13.46)\n",
      "[M::mem_pestat] low and high boundaries for proper pairs: (316, 456)\n",
      "[M::mem_pestat] analyzing insert size distribution for orientation RF...\n",
      "[M::mem_pestat] (25, 50, 75) percentile: (83, 1846, 4501)\n",
      "[M::mem_pestat] low and high boundaries for computing mean and std.dev: (1, 13337)\n",
      "[M::mem_pestat] mean and std.dev: (2453.78, 3097.66)\n",
      "[M::mem_pestat] low and high boundaries for proper pairs: (1, 17755)\n",
      "[M::mem_pestat] analyzing insert size distribution for orientation RR...\n",
      "[M::mem_pestat] (25, 50, 75) percentile: (1625, 2223, 4346)\n",
      "[M::mem_pestat] low and high boundaries for computing mean and std.dev: (1, 9788)\n",
      "[M::mem_pestat] mean and std.dev: (2814.77, 1730.29)\n",
      "[M::mem_pestat] low and high boundaries for proper pairs: (1, 12509)\n",
      "[M::mem_pestat] skip orientation FF\n",
      "[M::mem_pestat] skip orientation RF\n",
      "[M::mem_pestat] skip orientation RR\n",
      "[M::mem_process_seqs] Processed 2961274 reads in 874.384 CPU sec, 110.234 real sec\n",
      "[main] Version: 0.7.17-r1188\n",
      "[main] CMD: bwa mem -t 24 ../scratch/Data/Project2/GCF_000001405.40_GRCh38.p14_genomic.fna ../scratch/Data/Project1/Trimming/SRR058947_1.Trimmed.fastq.gz ../scratch/Data/Project1/Trimming/SRR058947_2.Trimmed.fastq.gz\n",
      "[main] Real time: 2382.507 sec; CPU: 17550.809 sec\n"
     ]
    }
   ],
   "source": [
    "#Write you command below.\n",
    "!bwa mem -t 24 ../scratch/Data/Project2/GCF_000001405.40_GRCh38.p14_genomic.fna ../scratch/Data/Project1/Trimming/SRR058947_1.Trimmed.fastq.gz ../scratch/Data/Project1/Trimming/SRR058947_2.Trimmed.fastq.gz > ../scratch/Data/Project2/SRR058947.sam"
   ]
  },
  {
   "cell_type": "markdown",
   "id": "be487895",
   "metadata": {},
   "source": [
    "#Add one extra cell as required and explain each argument/flag that was given to the mapping command.\n",
    "\n",
    "!bwa calls the tool\n",
    "mem makes the algorithm work by seedding alignments with maximal exact amtches and then extending seeds with the affine-gap SWW algorithm\n",
    "-t 24 asks the algorithm to use 24 threads\n",
    "GCF_000001405.40_GRCh38.p14_genomic.fna - it is the index_prefix - which is the index for the reference genome generated from bwa index\n",
    "SRR058947_1.Trimmed.fastq.gz andd SRR058947_2.Trimmed.fastq.gz are the the input files of seqeuncing data\n",
    "\">\" redirects the output to SRR058947.sam"
   ]
  },
  {
   "cell_type": "markdown",
   "id": "f64d8c5c",
   "metadata": {},
   "source": [
    "<div class=\"alert alert-block alert-warning\">\n",
    "    <h3>2.3 Post alignment evaluation.</h3>\n",
    "    <p>How many lines does your SAM file have?</p>\n",
    "</div>"
   ]
  },
  {
   "cell_type": "code",
   "execution_count": 6,
   "id": "bdb41feb",
   "metadata": {},
   "outputs": [
    {
     "name": "stdout",
     "output_type": "stream",
     "text": [
      "59036317 ../scratch/Data/Project2/SRR058947.sam\r\n"
     ]
    }
   ],
   "source": [
    "#Just one line for this one.\n",
    "!wc -l ../scratch/Data/Project2/SRR058947.sam"
   ]
  },
  {
   "cell_type": "markdown",
   "id": "da445c97",
   "metadata": {},
   "source": [
    "<div class=\"alert alert-block alert-warning\">\n",
    "    <h3>2.4 Look at the 7th read that maps successfully in your SAM file and answer the following questions. (10+10+10+10 = 40Points)</h3>\n",
    "    <p>1. What chromosome does it align to?</p>\n",
    "    <p>2. What is the CIGAR string for this read? Explain the CIGAR string in detail.</p>\n",
    "    <p>3. Does this read have a paired read which also aligns successfully?</p>\n",
    "    <p>4. If the paired read aligns successfully, what does the CIGAR string for this read convey?</p>\n",
    "</div>"
   ]
  },
  {
   "cell_type": "markdown",
   "id": "bc4a9e01",
   "metadata": {},
   "source": [
    "SRR058947.920\t83\tNC_000020.11\t35425079\t44\t60M\t=\t35424758\t-381\tCCTCTCCAACCTGGTGAAACCCTGTCTCTGCTAAAAATACGAAAATTAGCTGGGCATGAT\t######?<=?)A3<<0=/08+;8'53A?>84@:6C6>@-@;9=7.C-;C6C=CC?;CC6C\tNM:i:2\tMD:Z:3G6G49\tMC:Z:60M\tAS:i:51\tXS:i:48\tXA:Z:NC_000006.12,+41666086,55M5S,2;NC_000012.12,+117056079,6S49M5S,1;NC_000001.11,+84458756,8S47M5S,1;\n",
    "\n",
    "1. NC_000020.11\n",
    "2. 60M\n",
    "3. yes\n",
    "(SRR058947.920\t163\tNC_000020.11\t35424758\t60\t60M\t=\t35425079\t381\tATATAGTTAACAGTATAAAGTATGCGCTTCAAAATGGCTAANANGGTGAATTTTGTTATG\t:DDDDD:DDBDADCD?-:C6-@C=>A5A5=?:-C=DD5-?:!.!@;;;;1=::BA#####\tNM:i:2\tMD:Z:41G1T16\tMC:Z:60M\tAS:i:56\tXS:i:0)\n",
    "4. 60M = 60 exact matches"
   ]
  },
  {
   "cell_type": "markdown",
   "id": "0f530460",
   "metadata": {},
   "source": [
    "# **2. Post Read alignment**\n",
    "### *Total Questions: 5*\n",
    "### *Total Points: 10+20+25+15+30 = 100*\n",
    "\n",
    "\n",
    "---"
   ]
  },
  {
   "cell_type": "markdown",
   "id": "6dc0f9f5",
   "metadata": {},
   "source": [
    "<div class=\"alert alert-block alert-warning\">\n",
    "    <h3>3.1 Samtools is a classic bioinformatics tools.</h3>\n",
    "    <p>Check if you have samtools installed on your environment.</p>\n",
    "</div>"
   ]
  },
  {
   "cell_type": "code",
   "execution_count": 1,
   "id": "4b469ea4",
   "metadata": {},
   "outputs": [
    {
     "name": "stdout",
     "output_type": "stream",
     "text": [
      "\r\n",
      "Program: samtools (Tools for alignments in the SAM format)\r\n",
      "Version: 1.17 (using htslib 1.18)\r\n",
      "\r\n",
      "Usage:   samtools <command> [options]\r\n",
      "\r\n",
      "Commands:\r\n",
      "  -- Indexing\r\n",
      "     dict           create a sequence dictionary file\r\n",
      "     faidx          index/extract FASTA\r\n",
      "     fqidx          index/extract FASTQ\r\n",
      "     index          index alignment\r\n",
      "\r\n",
      "  -- Editing\r\n",
      "     calmd          recalculate MD/NM tags and '=' bases\r\n",
      "     fixmate        fix mate information\r\n",
      "     reheader       replace BAM header\r\n",
      "     targetcut      cut fosmid regions (for fosmid pool only)\r\n",
      "     addreplacerg   adds or replaces RG tags\r\n",
      "     markdup        mark duplicates\r\n",
      "     ampliconclip   clip oligos from the end of reads\r\n",
      "\r\n",
      "  -- File operations\r\n",
      "     collate        shuffle and group alignments by name\r\n",
      "     cat            concatenate BAMs\r\n",
      "     consensus      produce a consensus Pileup/FASTA/FASTQ\r\n",
      "     merge          merge sorted alignments\r\n",
      "     mpileup        multi-way pileup\r\n",
      "     sort           sort alignment file\r\n",
      "     split          splits a file by read group\r\n",
      "     quickcheck     quickly check if SAM/BAM/CRAM file appears intact\r\n",
      "     fastq          converts a BAM to a FASTQ\r\n",
      "     fasta          converts a BAM to a FASTA\r\n",
      "     import         Converts FASTA or FASTQ files to SAM/BAM/CRAM\r\n",
      "     reference      Generates a reference from aligned data\r\n",
      "     reset          Reverts aligner changes in reads\r\n",
      "\r\n",
      "  -- Statistics\r\n",
      "     bedcov         read depth per BED region\r\n",
      "     coverage       alignment depth and percent coverage\r\n",
      "     depth          compute the depth\r\n",
      "     flagstat       simple stats\r\n",
      "     idxstats       BAM index stats\r\n",
      "     cram-size      list CRAM Content-ID and Data-Series sizes\r\n",
      "     phase          phase heterozygotes\r\n",
      "     stats          generate stats (former bamcheck)\r\n",
      "     ampliconstats  generate amplicon specific stats\r\n",
      "\r\n",
      "  -- Viewing\r\n",
      "     flags          explain BAM flags\r\n",
      "     head           header viewer\r\n",
      "     tview          text alignment viewer\r\n",
      "     view           SAM<->BAM<->CRAM conversion\r\n",
      "     depad          convert padded BAM to unpadded BAM\r\n",
      "     samples        list the samples in a set of SAM/BAM/CRAM files\r\n",
      "\r\n",
      "  -- Misc\r\n",
      "     help [cmd]     display this help message or help for [cmd]\r\n",
      "     version        detailed version information\r\n",
      "\r\n"
     ]
    }
   ],
   "source": [
    "#Just run the \"samtools\" command here and make sure it does not say \"samtools not found\".\n",
    "!samtools"
   ]
  },
  {
   "cell_type": "markdown",
   "id": "3c73d9fc",
   "metadata": {},
   "source": [
    "<div class=\"alert alert-block alert-warning\">\n",
    "    <h3>3.2 Is your SAM file sorted by coordinates?</h3>\n",
    "    <p>SAM or BAM (which we will create later) can be sorted by the read name or read coordinate. Look at your SAM file and see if you can run a Samtools command to find out if your file is sorted. (Hint: Google your question)</p>\n",
    "</div>"
   ]
  },
  {
   "cell_type": "code",
   "execution_count": 2,
   "id": "59076e1b",
   "metadata": {},
   "outputs": [
    {
     "name": "stdout",
     "output_type": "stream",
     "text": [
      "[mpileup] 1 samples in 1 input files\n",
      "[E::bam_plp_push] The input is not sorted (reads out of order)\n",
      "samtools mpileup: error reading from input file\n"
     ]
    }
   ],
   "source": [
    "#Tell us if your SAM file is sorted.\n",
    "!samtools mpileup -f ~/scratch/Data/Project2/GCF_000001405.40_GRCh38.p14_genomic.fna ~/scratch/Data/Project2/SRR058947.sam > SRR058947.mpileup"
   ]
  },
  {
   "cell_type": "markdown",
   "id": "ff7a484c",
   "metadata": {},
   "source": [
    "#Tell us how you reached your answer and clerly write the commands used in additional cell with descriptive comments.\n",
    "Our SAM file is not sorted. We reached this conclusion by running the command in the precious cell block. mpileup produced stderr \"The input is not sorted\".  "
   ]
  },
  {
   "cell_type": "markdown",
   "id": "1992e6f1",
   "metadata": {},
   "source": [
    "<div class=\"alert alert-block alert-warning\">\n",
    "    <h3>3.3 Sort your SAM file?</h3>\n",
    "    <p>Sort your SAM file by genomic coordinates,</p>\n",
    "    <p>When you run this command, what is the output format of your result file?</p>\n",
    "    <h4>Tweak samtools and change your sorted SAM file's output to SAM. (Hint: You should be able to read the file using simple cat or less)</h4>\n",
    "</div>"
   ]
  },
  {
   "cell_type": "code",
   "execution_count": 3,
   "id": "f05ae2be",
   "metadata": {},
   "outputs": [
    {
     "name": "stdout",
     "output_type": "stream",
     "text": [
      "[bam_sort_core] merging from 16 files and 1 in-memory blocks...\r\n"
     ]
    }
   ],
   "source": [
    "#Run the sort command here.\n",
    "!samtools sort -O sam -T SRR058947_sample.sort -o ~/scratch/Data/Project2/SRR058947.sorted.sam ~/scratch/Data/Project2/SRR058947.sam"
   ]
  },
  {
   "cell_type": "code",
   "execution_count": 8,
   "id": "b5a61e2c",
   "metadata": {},
   "outputs": [
    {
     "name": "stdout",
     "output_type": "stream",
     "text": [
      "SRR058947.15354225\t99\tNC_000001.11\t10001\t0\t60M\t=\t10349\t392\tTAACCCTAACCCTAACCCTAACCCTAACCCTAACCCTAACCCTAACCCTAACCCTAACCA\tGEGFGGGDGFEFFGGEFEDEFDDD?DECDD@CBACC:A@??>(??###############\tNM:i:1\tMD:Z:59C0\tMC:Z:14S44M2S\tAS:i:59\tXS:i:60\r\n",
      "SRR058947.5970701\t99\tNC_000001.11\t10003\t0\t60M\t=\t10300\t357\tACCCTAACCCTAACCCTAACCCTAACCCTAACCCTAACCCTAACCCTAACCCTAACCCTA\tGGGGGFGGDGGGGGGGFGGGEGGGGEFGGFGDEGEGEEEFEFED=EDDDCCD=ACC?DAC\tNM:i:0\tMD:Z:60\tMC:Z:30M1D22M1I7M\tAS:i:60\tXS:i:60\r\n",
      "SRR058947.11561286\t163\tNC_000001.11\t10003\t0\t60M\t=\t10292\t350\tACCCTAACCCTAACCCTAACCCTAACCCTAACCCTAACCCTAACCCTAACCCTAACCCTA\tAFFFFGBGGGGFGGGGGDDFDFFFAFGGGGCGDFDFE5EDDD=B?DACC:AA1-B#####\tNM:i:0\tMD:Z:60\tMC:Z:38M1D22M\tAS:i:60\tXS:i:60\r\n",
      "SRR058947.646739\t99\tNC_000001.11\t10004\t0\t60M\t=\t10289\t345\tCCCTAACCCTAACCCTAACCCTAACCCTAACCCTAACCCTAACCCTAACCCTAACCCTAA\tGGGGGGGGGGGGGEGGGGGGGFGGFGFEGFEDFDFFCDECEECDDBDD@CDBCC?AB<<A\tNM:i:0\tMD:Z:60\tMC:Z:60M\tAS:i:60\tXS:i:60\r\n",
      "SRR058947.32733769\t161\tNC_000001.11\t10011\t0\t60M\tNC_000018.10\t3533897\t0\tCCTAACCCTAACCCTAACCCTAACCCTAACCCTAACCCTAACCCTAACCCTAACCCTAAC\tGGGGGGGGGGGGGGGGGFGGGGGEFEEGGEFDGEGDECEEEEDDDDEBCC@DDCCCCBDA\tNM:i:0\tMD:Z:60\tMC:Z:60M\tAS:i:60\tXS:i:60\r\n",
      "grep: write error\r\n"
     ]
    }
   ],
   "source": [
    "#Head your sorted SAM file here. Show the first 5 lines.\n",
    "!grep -A1 --no-group-separator '^SRR' ~/scratch/Data/Project2/SRR058947.sorted.sam | head -5"
   ]
  },
  {
   "cell_type": "code",
   "execution_count": null,
   "id": "da809aa0",
   "metadata": {},
   "outputs": [],
   "source": [
    "#Write any other commands used here as well."
   ]
  },
  {
   "cell_type": "markdown",
   "id": "d6a149f8",
   "metadata": {},
   "source": [
    "<div class=\"alert alert-block alert-warning\">\n",
    "    <h3>3.4 Convert your SAM file to a BAM file.</h3>\n",
    "    <p>This should be a single one line command.</p>\n",
    "</div>"
   ]
  },
  {
   "cell_type": "code",
   "execution_count": 9,
   "id": "6537a5e6",
   "metadata": {},
   "outputs": [],
   "source": [
    "#Write the command run \"ls -lh\" to show the size and location of the file.\n",
    "!samtools view -bS ~/scratch/Data/Project2/SRR058947.sorted.sam > ~/scratch/Data/Project2/SRR058947.sorted.bam"
   ]
  },
  {
   "cell_type": "code",
   "execution_count": 10,
   "id": "eeead422",
   "metadata": {},
   "outputs": [
    {
     "name": "stdout",
     "output_type": "stream",
     "text": [
      "total 40G\r\n",
      "-rw------- 1 cwijeyesekera3 gtperson 3.2G Oct 30 15:25 GCF_000001405.40_GRCh38.p14_genomic.fna\r\n",
      "-rw-r--r-- 1 cwijeyesekera3 gtperson  22K Oct 30 16:47 GCF_000001405.40_GRCh38.p14_genomic.fna.amb\r\n",
      "-rw-r--r-- 1 cwijeyesekera3 gtperson  91K Oct 30 16:47 GCF_000001405.40_GRCh38.p14_genomic.fna.ann\r\n",
      "-rw-r--r-- 1 cwijeyesekera3 gtperson 3.1G Oct 30 16:47 GCF_000001405.40_GRCh38.p14_genomic.fna.bwt\r\n",
      "-rw-r--r-- 1 cwijeyesekera3 gtperson  26K Oct 31 00:09 GCF_000001405.40_GRCh38.p14_genomic.fna.fai\r\n",
      "-rw-r--r-- 1 cwijeyesekera3 gtperson 787M Oct 30 16:47 GCF_000001405.40_GRCh38.p14_genomic.fna.pac\r\n",
      "-rw-r--r-- 1 cwijeyesekera3 gtperson 1.6G Oct 30 16:58 GCF_000001405.40_GRCh38.p14_genomic.fna.sa\r\n",
      "-rw-r--r-- 1 cwijeyesekera3 gtperson 1.2G Oct 30 15:26 GCF_000001405.40.zip\r\n",
      "-rw------- 1 cwijeyesekera3 gtperson 1.6K Oct 30 15:25 README.md\r\n",
      "-rw-r--r-- 1 cwijeyesekera3 gtperson  13G Oct 30 18:53 SRR058947.sam\r\n",
      "-rw-r--r-- 1 cwijeyesekera3 gtperson 3.6G Oct 31 01:20 SRR058947.sorted.bam\r\n",
      "-rw-r--r-- 1 cwijeyesekera3 gtperson  13G Oct 31 00:36 SRR058947.sorted.sam\r\n"
     ]
    }
   ],
   "source": [
    "!ls -lh ../scratch/Data/Project2/"
   ]
  },
  {
   "cell_type": "markdown",
   "id": "669013a5",
   "metadata": {},
   "source": [
    "<div class=\"alert alert-block alert-warning\">\n",
    "    <h3>3.5 Statistics of your SAM file.</h3>\n",
    "    <p>1.How many total raw sequences does your SAM file have?</p>\n",
    "    <p>2.How many total reads are mapped in your SAM file?</p>\n",
    "</div>"
   ]
  },
  {
   "cell_type": "code",
   "execution_count": 16,
   "id": "e6efcb2a",
   "metadata": {},
   "outputs": [],
   "source": [
    "#Show your commands and answers in additional cells as required."
   ]
  },
  {
   "cell_type": "code",
   "execution_count": 17,
   "id": "eb4fa95e",
   "metadata": {},
   "outputs": [],
   "source": [
    "#You can parse the SAM file manually, or figure out a faster way to do this."
   ]
  },
  {
   "cell_type": "code",
   "execution_count": 12,
   "id": "51df61f4",
   "metadata": {},
   "outputs": [
    {
     "name": "stdout",
     "output_type": "stream",
     "text": [
      "SN\traw total sequences:\t59029662\t# excluding supplementary and secondary reads\r\n"
     ]
    }
   ],
   "source": [
    "!samtools stats ~/scratch/Data/Project2/SRR058947.sorted.bam | grep 'raw total sequences'"
   ]
  },
  {
   "cell_type": "code",
   "execution_count": 13,
   "id": "68bf277a",
   "metadata": {},
   "outputs": [
    {
     "name": "stdout",
     "output_type": "stream",
     "text": [
      "SN\treads mapped:\t58575353\r\n",
      "SN\treads mapped and paired:\t58561112\t# paired-end technology bit set + both mates mapped\r\n"
     ]
    }
   ],
   "source": [
    "!samtools stats ~/scratch/Data/Project2/SRR058947.sorted.bam | grep 'reads mapped'"
   ]
  }
 ],
 "metadata": {
  "kernelspec": {
   "display_name": "Python [conda env:biol6150]",
   "language": "python",
   "name": "conda-env-biol6150-py"
  },
  "language_info": {
   "codemirror_mode": {
    "name": "ipython",
    "version": 3
   },
   "file_extension": ".py",
   "mimetype": "text/x-python",
   "name": "python",
   "nbconvert_exporter": "python",
   "pygments_lexer": "ipython3",
   "version": "3.11.5"
  }
 },
 "nbformat": 4,
 "nbformat_minor": 5
}
